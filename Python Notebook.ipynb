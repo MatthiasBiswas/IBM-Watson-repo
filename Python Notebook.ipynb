{
    "cells": [
        {
            "metadata": {},
            "cell_type": "markdown",
            "source": "# Describtion\nDataset of 100 sales"
        },
        {
            "metadata": {
                "scrolled": true
            },
            "cell_type": "code",
            "source": "\nimport types\nimport pandas as pd\nfrom botocore.client import Config\nimport ibm_boto3\n\ndef __iter__(self): return 0\n\n# @hidden_cell\n# The following code accesses a file in your IBM Cloud Object Storage. It includes your credentials.\n# You might want to remove those credentials before you share the notebook.\nclient_2ed9ecaa5dd34732b2c1058e0817d2c1 = ibm_boto3.client(service_name='s3',\n    ibm_api_key_id='cn5ZLxI1jMgrDVeiq1FiHORRJt6-oUKNHLvG5zWRZclg',\n    ibm_auth_endpoint=\"https://iam.cloud.ibm.com/oidc/token\",\n    config=Config(signature_version='oauth'),\n    endpoint_url='https://s3-api.us-geo.objectstorage.service.networklayer.com')\n\nbody = client_2ed9ecaa5dd34732b2c1058e0817d2c1.get_object(Bucket='testdemo-donotdelete-pr-wsm20bevjnngtw',Key='100 Sales Records.csv')['Body']\n# add missing __iter__ method, so pandas accepts body as file-like object\nif not hasattr(body, \"__iter__\"): body.__iter__ = types.MethodType( __iter__, body )\n\ndf_data_1 = pd.read_csv(body)\ndf_data_1.head()\n",
            "execution_count": 1,
            "outputs": [
                {
                    "output_type": "execute_result",
                    "execution_count": 1,
                    "data": {
                        "text/plain": "                              Region                Country        Item Type  \\\n0              Australia and Oceania                 Tuvalu        Baby Food   \n1  Central America and the Caribbean                Grenada           Cereal   \n2                             Europe                 Russia  Office Supplies   \n3                 Sub-Saharan Africa  Sao Tome and Principe           Fruits   \n4                 Sub-Saharan Africa                 Rwanda  Office Supplies   \n\n  Sales Channel Order Priority Order Date   Order ID  Ship Date  Units Sold  \\\n0       Offline              H  5/28/2010  669165933  6/27/2010        9925   \n1        Online              C  8/22/2012  963881480  9/15/2012        2804   \n2       Offline              L   5/2/2014  341417157   5/8/2014        1779   \n3        Online              C  6/20/2014  514321792   7/5/2014        8102   \n4       Offline              L   2/1/2013  115456712   2/6/2013        5062   \n\n   Unit Price  Unit Cost  Total Revenue  Total Cost  Total Profit  \n0      255.28     159.42     2533654.00  1582243.50     951410.50  \n1      205.70     117.11      576782.80   328376.44     248406.36  \n2      651.21     524.96     1158502.59   933903.84     224598.75  \n3        9.33       6.92       75591.66    56065.84      19525.82  \n4      651.21     524.96     3296425.02  2657347.52     639077.50  ",
                        "text/html": "<div>\n<style scoped>\n    .dataframe tbody tr th:only-of-type {\n        vertical-align: middle;\n    }\n\n    .dataframe tbody tr th {\n        vertical-align: top;\n    }\n\n    .dataframe thead th {\n        text-align: right;\n    }\n</style>\n<table border=\"1\" class=\"dataframe\">\n  <thead>\n    <tr style=\"text-align: right;\">\n      <th></th>\n      <th>Region</th>\n      <th>Country</th>\n      <th>Item Type</th>\n      <th>Sales Channel</th>\n      <th>Order Priority</th>\n      <th>Order Date</th>\n      <th>Order ID</th>\n      <th>Ship Date</th>\n      <th>Units Sold</th>\n      <th>Unit Price</th>\n      <th>Unit Cost</th>\n      <th>Total Revenue</th>\n      <th>Total Cost</th>\n      <th>Total Profit</th>\n    </tr>\n  </thead>\n  <tbody>\n    <tr>\n      <th>0</th>\n      <td>Australia and Oceania</td>\n      <td>Tuvalu</td>\n      <td>Baby Food</td>\n      <td>Offline</td>\n      <td>H</td>\n      <td>5/28/2010</td>\n      <td>669165933</td>\n      <td>6/27/2010</td>\n      <td>9925</td>\n      <td>255.28</td>\n      <td>159.42</td>\n      <td>2533654.00</td>\n      <td>1582243.50</td>\n      <td>951410.50</td>\n    </tr>\n    <tr>\n      <th>1</th>\n      <td>Central America and the Caribbean</td>\n      <td>Grenada</td>\n      <td>Cereal</td>\n      <td>Online</td>\n      <td>C</td>\n      <td>8/22/2012</td>\n      <td>963881480</td>\n      <td>9/15/2012</td>\n      <td>2804</td>\n      <td>205.70</td>\n      <td>117.11</td>\n      <td>576782.80</td>\n      <td>328376.44</td>\n      <td>248406.36</td>\n    </tr>\n    <tr>\n      <th>2</th>\n      <td>Europe</td>\n      <td>Russia</td>\n      <td>Office Supplies</td>\n      <td>Offline</td>\n      <td>L</td>\n      <td>5/2/2014</td>\n      <td>341417157</td>\n      <td>5/8/2014</td>\n      <td>1779</td>\n      <td>651.21</td>\n      <td>524.96</td>\n      <td>1158502.59</td>\n      <td>933903.84</td>\n      <td>224598.75</td>\n    </tr>\n    <tr>\n      <th>3</th>\n      <td>Sub-Saharan Africa</td>\n      <td>Sao Tome and Principe</td>\n      <td>Fruits</td>\n      <td>Online</td>\n      <td>C</td>\n      <td>6/20/2014</td>\n      <td>514321792</td>\n      <td>7/5/2014</td>\n      <td>8102</td>\n      <td>9.33</td>\n      <td>6.92</td>\n      <td>75591.66</td>\n      <td>56065.84</td>\n      <td>19525.82</td>\n    </tr>\n    <tr>\n      <th>4</th>\n      <td>Sub-Saharan Africa</td>\n      <td>Rwanda</td>\n      <td>Office Supplies</td>\n      <td>Offline</td>\n      <td>L</td>\n      <td>2/1/2013</td>\n      <td>115456712</td>\n      <td>2/6/2013</td>\n      <td>5062</td>\n      <td>651.21</td>\n      <td>524.96</td>\n      <td>3296425.02</td>\n      <td>2657347.52</td>\n      <td>639077.50</td>\n    </tr>\n  </tbody>\n</table>\n</div>"
                    },
                    "metadata": {}
                }
            ]
        }
    ],
    "metadata": {
        "kernelspec": {
            "name": "python3",
            "display_name": "Python 3.6",
            "language": "python"
        },
        "language_info": {
            "name": "python",
            "version": "3.6.9",
            "mimetype": "text/x-python",
            "codemirror_mode": {
                "name": "ipython",
                "version": 3
            },
            "pygments_lexer": "ipython3",
            "nbconvert_exporter": "python",
            "file_extension": ".py"
        }
    },
    "nbformat": 4,
    "nbformat_minor": 1
}