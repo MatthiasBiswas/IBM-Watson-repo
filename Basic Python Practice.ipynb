{
    "cells": [
        {
            "cell_type": "code",
            "execution_count": 2,
            "metadata": {},
            "outputs": [
                {
                    "name": "stdout",
                    "output_type": "stream",
                    "text": "The area if the triangle is: 9.0\n"
                }
            ],
            "source": "base = 6 \nheight = 3 \narea = (base*height)/2\nprint(\"The area if the triangle is: \" + str(area))"
        },
        {
            "cell_type": "code",
            "execution_count": 1,
            "metadata": {},
            "outputs": [
                {
                    "ename": "IndentationError",
                    "evalue": "unexpected indent (<ipython-input-1-ce09a98e0595>, line 8)",
                    "output_type": "error",
                    "traceback": [
                        "\u001b[0;36m  File \u001b[0;32m\"<ipython-input-1-ce09a98e0595>\"\u001b[0;36m, line \u001b[0;32m8\u001b[0m\n\u001b[0;31m    def add_radius(self,new_radius):\u001b[0m\n\u001b[0m    ^\u001b[0m\n\u001b[0;31mIndentationError\u001b[0m\u001b[0;31m:\u001b[0m unexpected indent\n"
                    ]
                }
            ],
            "source": "class Circle(object):\n    def _init_(self,radius,color):\n        self.radius = radius;\n        self.color = color;\nColor1 = Circle(10,\"Red\")\nCircle.radius = 2\nCircle.color = \"Black\"\n    def add_radius(self,new_radius):\n        self.radius = self.radius + new_radius;\n        return(self.radius)\n\nclass Rectangle(object):\n    def _init_(self,height,weidth,color):\n        self.height = height;\n        self.weidth = weidth;\n        self.color = color;\n        "
        },
        {
            "cell_type": "code",
            "execution_count": 3,
            "metadata": {},
            "outputs": [],
            "source": "class Point(object):\n\n  def __init__(self,x,y):\n\n    self.x=x\n    self.y=y\n\n  def print_point(self):\n\n    print('x=',self.x,'y=',self.y)"
        },
        {
            "cell_type": "code",
            "execution_count": 5,
            "metadata": {},
            "outputs": [
                {
                    "name": "stdout",
                    "output_type": "stream",
                    "text": "x= 1  y= 2\n"
                }
            ],
            "source": "class Points(object):\n    def __init__(self,x,y):\n\n        self.x=x\n        self.y=y\n\n    def print_point(self):\n\n        print('x=',self.x,' y=',self.y)\n\np1=Points(1,2)\np1.print_point()"
        },
        {
            "cell_type": "code",
            "execution_count": 6,
            "metadata": {},
            "outputs": [
                {
                    "name": "stdout",
                    "output_type": "stream",
                    "text": "x= A  y= 2\n"
                }
            ],
            "source": "class Points(object):\n\n    def __init__(self,x,y):\n\n        self.x=x\n        self.y=y\n\n    def print_point(self):\n\n        print('x=',self.x,' y=',self.y)\n\np2=Points(1,2)\n\np2.x='A'\n\np2.print_point()"
        },
        {
            "cell_type": "code",
            "execution_count": null,
            "metadata": {},
            "outputs": [],
            "source": ""
        }
    ],
    "metadata": {
        "kernelspec": {
            "display_name": "Python 3.6",
            "language": "python",
            "name": "python3"
        },
        "language_info": {
            "codemirror_mode": {
                "name": "ipython",
                "version": 3
            },
            "file_extension": ".py",
            "mimetype": "text/x-python",
            "name": "python",
            "nbconvert_exporter": "python",
            "pygments_lexer": "ipython3",
            "version": "3.6.9"
        }
    },
    "nbformat": 4,
    "nbformat_minor": 1
}